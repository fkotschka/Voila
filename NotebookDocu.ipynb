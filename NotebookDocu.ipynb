{
 "cells": [
  {
   "cell_type": "markdown",
   "metadata": {},
   "source": [
    "# Documentation for Notebooks"
   ]
  },
  {
   "cell_type": "code",
   "execution_count": 1,
   "metadata": {},
   "outputs": [],
   "source": [
    "import glob, os, yaml, datetime\n",
    "import ipywidgets as widgets\n",
    "from ipywidgets import Layout, Box, VBox, HBox\n",
    "from IPython.display import clear_output"
   ]
  },
  {
   "cell_type": "code",
   "execution_count": 2,
   "metadata": {},
   "outputs": [],
   "source": [
    "# Collecting all Notebooks in a list\n",
    "nbs = []\n",
    "for file in os.listdir('../notebooks'):\n",
    "        if file.endswith(\".ipynb\"):\n",
    "            nbs.append(file)\n",
    "notebooks = [x[:-6] for x in nbs]"
   ]
  },
  {
   "cell_type": "code",
   "execution_count": 3,
   "metadata": {},
   "outputs": [],
   "source": [
    "# Dict for yml\n",
    "def obc(b):\n",
    "    data = {Name.value+ResType.value: {'GeneralInformation': {'Project' : Project.value,'Description': Descr.value,'Keywords': Keywords.value,'Status': Status.value,'Update': Update.value,'ResType': ResType.value},\n",
    "                                       'Author': {'Name': Author.value,'Institution': Inst.value,'ID': ID.value,'EMail': EMail.value,'ResearchGroup': RG.value},\n",
    "                                       'Data': {'Subject': Subject.value,'Contributors': Contributors.value,'Cites': Cites.value,'FurtherInformation': Info.value,'Publishable': Pub.value}}}\n",
    "    with open('../documentation/'+Name.value+'.yml', 'w') as yaml_file:\n",
    "        yaml.dump(data, yaml_file, default_flow_style=False,allow_unicode=True)\n",
    "    with out:\n",
    "        display('Saved')\n",
    "def ovc(dd):\n",
    "    with out:\n",
    "        clear_output()"
   ]
  },
  {
   "cell_type": "code",
   "execution_count": 4,
   "metadata": {},
   "outputs": [],
   "source": [
    "# Generating Widgets\n",
    "Name = widgets.Dropdown(options= notebooks,value = notebooks[0], description='Notebook:',disabled=False)\n",
    "Name.observe(ovc)\n",
    "Pub = widgets.ToggleButtons(options=[False, True], description='Publishable:',disabled=False)\n",
    "Project = widgets.Text(value=os.getcwd().split('/')[-2],placeholder='Project Name',description='Project:',disabled=False)\n",
    "RG = widgets.Text(placeholder='Group Members',description='Research Group:',disabled=False)\n",
    "Inst = widgets.Text(placeholder='Institutions',description='Institutions:',disabled=False)\n",
    "Keywords = widgets.Text(placeholder='Keywords',description='Keywords:',disabled=False)\n",
    "Subject = widgets.Text(placeholder='Subject',description='Subject:',disabled=False)\n",
    "Status = widgets.Text(value='Development',placeholder='Development, Published, ...',description='Status:',disabled=False)\n",
    "Update = widgets.Text(value=datetime.datetime.now().strftime(\"%x\"),placeholder='Date',description='update:',disabled=False)\n",
    "Author = widgets.Text(placeholder='Author Name',description='Author:',disabled=False)\n",
    "EMail = widgets.Text(placeholder='Author EMail',description='EMail:',disabled=False)\n",
    "ID = widgets.Text(placeholder='ORCID, ...',description='ID:',disabled=False)\n",
    "Cites = widgets.Text(placeholder='used resources',description='cites:',disabled=False)\n",
    "Contributors = widgets.Text(placeholder='Contributors',description='Contributors:',disabled=False)\n",
    "Info = widgets.Textarea(placeholder='further Information',description='Info:',disabled=False)\n",
    "ResType =  widgets.Text(value = '.ipynb', placeholder='resource type',description='Type:',disabled=False)\n",
    "Descr = widgets.Textarea(placeholder='Description of the Notebook',description='Description:',disabled=False)\n",
    "out = widgets.Output()\n",
    "But = widgets.Button(description='Generate yml',disabled=False)\n",
    "But.on_click(obc)"
   ]
  },
  {
   "cell_type": "markdown",
   "metadata": {},
   "source": [
    "## General Information"
   ]
  },
  {
   "cell_type": "code",
   "execution_count": 5,
   "metadata": {},
   "outputs": [
    {
     "data": {
      "application/vnd.jupyter.widget-view+json": {
       "model_id": "daa9149018b34de0870886e5a4365cdc",
       "version_major": 2,
       "version_minor": 0
      },
      "text/plain": [
       "VBox(children=(Dropdown(description='Notebook:', options=('Project_Mach_Learning', 'LoadClass', 'testr', 'Proj…"
      ]
     },
     "metadata": {},
     "output_type": "display_data"
    }
   ],
   "source": [
    "VBox([Name, Project, ResType, Keywords, Status,Update, Descr])"
   ]
  },
  {
   "cell_type": "markdown",
   "metadata": {},
   "source": [
    "## Author"
   ]
  },
  {
   "cell_type": "code",
   "execution_count": 6,
   "metadata": {},
   "outputs": [
    {
     "data": {
      "application/vnd.jupyter.widget-view+json": {
       "model_id": "86ff065f37b5480392585685eece11d7",
       "version_major": 2,
       "version_minor": 0
      },
      "text/plain": [
       "VBox(children=(Text(value='', description='Author:', placeholder='Author Name'), Text(value='', description='I…"
      ]
     },
     "metadata": {},
     "output_type": "display_data"
    }
   ],
   "source": [
    "VBox([Author, ID, EMail, RG, Inst])"
   ]
  },
  {
   "cell_type": "markdown",
   "metadata": {},
   "source": [
    "## Data"
   ]
  },
  {
   "cell_type": "code",
   "execution_count": 7,
   "metadata": {},
   "outputs": [
    {
     "data": {
      "application/vnd.jupyter.widget-view+json": {
       "model_id": "5de28b2d09624df2a7e405267b22e64f",
       "version_major": 2,
       "version_minor": 0
      },
      "text/plain": [
       "VBox(children=(Text(value='', description='Subject:', placeholder='Subject'), Text(value='', description='Cont…"
      ]
     },
     "metadata": {},
     "output_type": "display_data"
    }
   ],
   "source": [
    "VBox([Subject, Contributors,Cites, Info, Pub])"
   ]
  },
  {
   "cell_type": "markdown",
   "metadata": {},
   "source": [
    "## Generate Documentation"
   ]
  },
  {
   "cell_type": "code",
   "execution_count": 8,
   "metadata": {},
   "outputs": [
    {
     "data": {
      "application/vnd.jupyter.widget-view+json": {
       "model_id": "b5f4e1b3e3d64cbc9f367480cabf71a3",
       "version_major": 2,
       "version_minor": 0
      },
      "text/plain": [
       "VBox(children=(Button(description='Generate yml', style=ButtonStyle()), Output()))"
      ]
     },
     "metadata": {},
     "output_type": "display_data"
    }
   ],
   "source": [
    "VBox([But,out])"
   ]
  },
  {
   "cell_type": "code",
   "execution_count": null,
   "metadata": {},
   "outputs": [],
   "source": []
  },
  {
   "cell_type": "code",
   "execution_count": null,
   "metadata": {},
   "outputs": [],
   "source": []
  }
 ],
 "metadata": {
  "kernelspec": {
   "display_name": "Python 3",
   "language": "python",
   "name": "python3"
  },
  "language_info": {
   "codemirror_mode": {
    "name": "ipython",
    "version": 3
   },
   "file_extension": ".py",
   "mimetype": "text/x-python",
   "name": "python",
   "nbconvert_exporter": "python",
   "pygments_lexer": "ipython3",
   "version": "3.6.5"
  }
 },
 "nbformat": 4,
 "nbformat_minor": 2
}
